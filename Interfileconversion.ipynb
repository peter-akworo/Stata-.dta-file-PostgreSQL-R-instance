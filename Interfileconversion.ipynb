{
 "cells": [
  {
   "cell_type": "markdown",
   "metadata": {},
   "source": [
    "**Manipulating a Stata .dta file stored in A PostgreSQL database with R**"
   ]
  },
  {
   "cell_type": "markdown",
   "metadata": {},
   "source": [
    "Import RPostgreSQL that helps create a connection to the database"
   ]
  },
  {
   "cell_type": "code",
   "execution_count": 1,
   "metadata": {},
   "outputs": [
    {
     "name": "stderr",
     "output_type": "stream",
     "text": [
      "Loading required package: DBI\n"
     ]
    }
   ],
   "source": [
    "library(RPostgreSQL)"
   ]
  },
  {
   "cell_type": "markdown",
   "metadata": {},
   "source": [
    "import readstata13 library to read and write stata files"
   ]
  },
  {
   "cell_type": "code",
   "execution_count": 2,
   "metadata": {},
   "outputs": [],
   "source": [
    "library(readstata13)"
   ]
  },
  {
   "cell_type": "markdown",
   "metadata": {},
   "source": [
    "Read/Load stata dataset"
   ]
  },
  {
   "cell_type": "code",
   "execution_count": 3,
   "metadata": {},
   "outputs": [],
   "source": [
    "data <- read.dta13(\"C:\\\\Users\\\\ME\\\\Downloads\\\\airline.dta\")"
   ]
  },
  {
   "cell_type": "code",
   "execution_count": 4,
   "metadata": {},
   "outputs": [],
   "source": [
    "drv <- dbDriver(\"PostgreSQL\");#loads the PostgreSQL driver\n",
    "con <- dbConnect(drv,\n",
    "                 user=\"postgres\",\n",
    "                 password=\"K@trina26\",\n",
    "                 dbname=\"postgres\",\n",
    "                 host=\"localhost\",\n",
    "                 port=5432);#creates a connection to the postgres database"
   ]
  },
  {
   "cell_type": "markdown",
   "metadata": {},
   "source": [
    "The function dbWriteTable() returns TRUE if the table was successfully written. Note this call will fail if airline already exists in the database. Use overwrite=TRUE to force overwriting of an existing table"
   ]
  },
  {
   "cell_type": "code",
   "execution_count": 5,
   "metadata": {},
   "outputs": [
    {
     "data": {
      "text/html": [
       "TRUE"
      ],
      "text/latex": [
       "TRUE"
      ],
      "text/markdown": [
       "TRUE"
      ],
      "text/plain": [
       "[1] TRUE"
      ]
     },
     "metadata": {},
     "output_type": "display_data"
    }
   ],
   "source": [
    "dbWriteTable(con, \"airline\", data, overwrite=TRUE)#write the table into the database."
   ]
  },
  {
   "cell_type": "markdown",
   "metadata": {},
   "source": [
    "read back the full table."
   ]
  },
  {
   "cell_type": "code",
   "execution_count": 6,
   "metadata": {},
   "outputs": [],
   "source": [
    "df_postgres <- dbGetQuery(con, \"SELECT * from airline\")#query the data from postgreSQL"
   ]
  },
  {
   "cell_type": "code",
   "execution_count": 7,
   "metadata": {},
   "outputs": [
    {
     "data": {
      "text/plain": [
       "  row.names              year            y                w         \n",
       " Length:32          Min.   :1948   Min.   : 1.214   Min.   :0.2430  \n",
       " Class :character   1st Qu.:1956   1st Qu.: 3.875   1st Qu.:0.3583  \n",
       " Mode  :character   Median :1964   Median : 7.349   Median :0.5220  \n",
       "                    Mean   :1964   Mean   :10.050   Mean   :0.6913  \n",
       "                    3rd Qu.:1971   3rd Qu.:16.400   3rd Qu.:0.9295  \n",
       "                    Max.   :1979   Max.   :23.619   Max.   :1.7790  \n",
       "       r                l               k         \n",
       " Min.   :0.1454   Min.   :1.384   Min.   :0.5590  \n",
       " 1st Qu.:0.2667   1st Qu.:2.355   1st Qu.:0.8203  \n",
       " Median :0.3505   Median :3.337   Median :2.0190  \n",
       " Mean   :0.3549   Mean   :3.793   Mean   :3.7363  \n",
       " 3rd Qu.:0.4064   3rd Qu.:5.513   3rd Qu.:7.1965  \n",
       " Max.   :0.5879   Max.   :6.852   Max.   :9.5080  "
      ]
     },
     "metadata": {},
     "output_type": "display_data"
    }
   ],
   "source": [
    "summary(df_postgres)#get the summary of database/connection"
   ]
  },
  {
   "cell_type": "code",
   "execution_count": 8,
   "metadata": {},
   "outputs": [
    {
     "name": "stderr",
     "output_type": "stream",
     "text": [
      "\n",
      "Attaching package: 'dplyr'\n",
      "\n",
      "The following objects are masked from 'package:stats':\n",
      "\n",
      "    filter, lag\n",
      "\n",
      "The following objects are masked from 'package:base':\n",
      "\n",
      "    intersect, setdiff, setequal, union\n",
      "\n"
     ]
    }
   ],
   "source": [
    "library(dplyr)#import package for data manipulation"
   ]
  },
  {
   "cell_type": "code",
   "execution_count": 9,
   "metadata": {},
   "outputs": [],
   "source": [
    "v <- tbl(con, \"airline\")#create a table reference from a data source"
   ]
  },
  {
   "cell_type": "code",
   "execution_count": 10,
   "metadata": {},
   "outputs": [
    {
     "data": {
      "text/plain": [
       "# Source:   table<airline> [?? x 7]\n",
       "# Database: postgres 11.0.0 [postgres@localhost:5432/postgres]\n",
       "   row.names  year     y     w     r     l     k\n",
       "   <chr>     <int> <dbl> <dbl> <dbl> <dbl> <dbl>\n",
       " 1 1          1948  1.21 0.243 0.145  1.41 0.612\n",
       " 2 2          1949  1.35 0.260 0.218  1.38 0.559\n",
       " 3 3          1950  1.57 0.278 0.316  1.39 0.573\n",
       " 4 4          1951  1.95 0.297 0.394  1.55 0.564\n",
       " 5 5          1952  2.27 0.310 0.356  1.80 0.574\n",
       " 6 6          1953  2.73 0.322 0.359  1.93 0.711\n",
       " 7 7          1954  3.03 0.335 0.403  1.96 0.776\n",
       " 8 8          1955  3.56 0.350 0.396  2.12 0.827\n",
       " 9 9          1956  3.98 0.361 0.382  2.43 0.800\n",
       "10 10         1957  4.42 0.379 0.305  2.71 0.921\n",
       "# ... with more rows"
      ]
     },
     "metadata": {},
     "output_type": "display_data"
    }
   ],
   "source": [
    "v "
   ]
  },
  {
   "cell_type": "code",
   "execution_count": 11,
   "metadata": {},
   "outputs": [
    {
     "data": {
      "text/html": [
       "<table>\n",
       "<thead><tr><th scope=col>row.names</th><th scope=col>year</th><th scope=col>y</th><th scope=col>w</th><th scope=col>r</th><th scope=col>l</th><th scope=col>k</th></tr></thead>\n",
       "<tbody>\n",
       "\t<tr><td>1     </td><td>1948  </td><td> 1.214</td><td>0.243 </td><td>0.1454</td><td>1.415 </td><td>0.612 </td></tr>\n",
       "\t<tr><td>2     </td><td>1949  </td><td> 1.354</td><td>0.260 </td><td>0.2181</td><td>1.384 </td><td>0.559 </td></tr>\n",
       "\t<tr><td>3     </td><td>1950  </td><td> 1.569</td><td>0.278 </td><td>0.3157</td><td>1.388 </td><td>0.573 </td></tr>\n",
       "\t<tr><td>4     </td><td>1951  </td><td> 1.948</td><td>0.297 </td><td>0.3940</td><td>1.550 </td><td>0.564 </td></tr>\n",
       "\t<tr><td>5     </td><td>1952  </td><td> 2.265</td><td>0.310 </td><td>0.3559</td><td>1.802 </td><td>0.574 </td></tr>\n",
       "\t<tr><td>6     </td><td>1953  </td><td> 2.731</td><td>0.322 </td><td>0.3593</td><td>1.926 </td><td>0.711 </td></tr>\n",
       "\t<tr><td>7     </td><td>1954  </td><td> 3.025</td><td>0.335 </td><td>0.4025</td><td>1.964 </td><td>0.776 </td></tr>\n",
       "\t<tr><td>8     </td><td>1955  </td><td> 3.562</td><td>0.350 </td><td>0.3961</td><td>2.116 </td><td>0.827 </td></tr>\n",
       "\t<tr><td>9     </td><td>1956  </td><td> 3.979</td><td>0.361 </td><td>0.3822</td><td>2.435 </td><td>0.800 </td></tr>\n",
       "\t<tr><td>10    </td><td>1957  </td><td> 4.420</td><td>0.379 </td><td>0.3045</td><td>2.707 </td><td>0.921 </td></tr>\n",
       "\t<tr><td>11    </td><td>1958  </td><td> 4.563</td><td>0.391 </td><td>0.3284</td><td>2.706 </td><td>1.067 </td></tr>\n",
       "\t<tr><td>12    </td><td>1959  </td><td> 5.385</td><td>0.426 </td><td>0.3856</td><td>2.846 </td><td>1.083 </td></tr>\n",
       "\t<tr><td>13    </td><td>1960  </td><td> 5.554</td><td>0.441 </td><td>0.3193</td><td>3.089 </td><td>1.481 </td></tr>\n",
       "\t<tr><td>14    </td><td>1961  </td><td> 5.465</td><td>0.460 </td><td>0.3079</td><td>3.122 </td><td>1.736 </td></tr>\n",
       "\t<tr><td>15    </td><td>1962  </td><td> 5.825</td><td>0.485 </td><td>0.3783</td><td>3.184 </td><td>1.926 </td></tr>\n",
       "\t<tr><td>16    </td><td>1963  </td><td> 6.876</td><td>0.506 </td><td>0.4180</td><td>3.263 </td><td>2.041 </td></tr>\n",
       "\t<tr><td>17    </td><td>1964  </td><td> 7.823</td><td>0.538 </td><td>0.5163</td><td>3.412 </td><td>1.997 </td></tr>\n",
       "\t<tr><td>18    </td><td>1965  </td><td> 9.120</td><td>0.564 </td><td>0.5879</td><td>3.623 </td><td>2.257 </td></tr>\n",
       "\t<tr><td>19    </td><td>1966  </td><td>10.512</td><td>0.586 </td><td>0.5369</td><td>4.074 </td><td>2.742 </td></tr>\n",
       "\t<tr><td>20    </td><td>1967  </td><td>13.020</td><td>0.622 </td><td>0.4443</td><td>4.710 </td><td>3.564 </td></tr>\n",
       "\t<tr><td>21    </td><td>1968  </td><td>15.261</td><td>0.666 </td><td>0.3052</td><td>5.217 </td><td>4.767 </td></tr>\n",
       "\t<tr><td>22    </td><td>1969  </td><td>16.313</td><td>0.731 </td><td>0.2332</td><td>5.569 </td><td>6.511 </td></tr>\n",
       "\t<tr><td>23    </td><td>1970  </td><td>16.002</td><td>0.831 </td><td>0.1883</td><td>5.495 </td><td>7.627 </td></tr>\n",
       "\t<tr><td>24    </td><td>1971  </td><td>15.876</td><td>0.906 </td><td>0.2023</td><td>5.334 </td><td>8.673 </td></tr>\n",
       "\t<tr><td>25    </td><td>1972  </td><td>16.662</td><td>1.000 </td><td>0.2506</td><td>5.345 </td><td>8.331 </td></tr>\n",
       "\t<tr><td>26    </td><td>1973  </td><td>17.014</td><td>1.056 </td><td>0.2668</td><td>5.662 </td><td>8.557 </td></tr>\n",
       "\t<tr><td>27    </td><td>1974  </td><td>19.305</td><td>1.131 </td><td>0.2664</td><td>5.729 </td><td>9.508 </td></tr>\n",
       "\t<tr><td>28    </td><td>1975  </td><td>18.721</td><td>1.247 </td><td>0.2301</td><td>5.722 </td><td>9.062 </td></tr>\n",
       "\t<tr><td>29    </td><td>1976  </td><td>19.250</td><td>1.375 </td><td>0.3452</td><td>5.762 </td><td>8.262 </td></tr>\n",
       "\t<tr><td>30    </td><td>1977  </td><td>20.647</td><td>1.544 </td><td>0.4508</td><td>5.877 </td><td>7.474 </td></tr>\n",
       "\t<tr><td>31    </td><td>1978  </td><td>22.726</td><td>1.703 </td><td>0.5877</td><td>6.108 </td><td>7.104 </td></tr>\n",
       "\t<tr><td>32    </td><td>1979  </td><td>23.619</td><td>1.779 </td><td>0.5346</td><td>6.852 </td><td>6.874 </td></tr>\n",
       "</tbody>\n",
       "</table>\n"
      ],
      "text/latex": [
       "\\begin{tabular}{r|lllllll}\n",
       " row.names & year & y & w & r & l & k\\\\\n",
       "\\hline\n",
       "\t 1      & 1948   &  1.214 & 0.243  & 0.1454 & 1.415  & 0.612 \\\\\n",
       "\t 2      & 1949   &  1.354 & 0.260  & 0.2181 & 1.384  & 0.559 \\\\\n",
       "\t 3      & 1950   &  1.569 & 0.278  & 0.3157 & 1.388  & 0.573 \\\\\n",
       "\t 4      & 1951   &  1.948 & 0.297  & 0.3940 & 1.550  & 0.564 \\\\\n",
       "\t 5      & 1952   &  2.265 & 0.310  & 0.3559 & 1.802  & 0.574 \\\\\n",
       "\t 6      & 1953   &  2.731 & 0.322  & 0.3593 & 1.926  & 0.711 \\\\\n",
       "\t 7      & 1954   &  3.025 & 0.335  & 0.4025 & 1.964  & 0.776 \\\\\n",
       "\t 8      & 1955   &  3.562 & 0.350  & 0.3961 & 2.116  & 0.827 \\\\\n",
       "\t 9      & 1956   &  3.979 & 0.361  & 0.3822 & 2.435  & 0.800 \\\\\n",
       "\t 10     & 1957   &  4.420 & 0.379  & 0.3045 & 2.707  & 0.921 \\\\\n",
       "\t 11     & 1958   &  4.563 & 0.391  & 0.3284 & 2.706  & 1.067 \\\\\n",
       "\t 12     & 1959   &  5.385 & 0.426  & 0.3856 & 2.846  & 1.083 \\\\\n",
       "\t 13     & 1960   &  5.554 & 0.441  & 0.3193 & 3.089  & 1.481 \\\\\n",
       "\t 14     & 1961   &  5.465 & 0.460  & 0.3079 & 3.122  & 1.736 \\\\\n",
       "\t 15     & 1962   &  5.825 & 0.485  & 0.3783 & 3.184  & 1.926 \\\\\n",
       "\t 16     & 1963   &  6.876 & 0.506  & 0.4180 & 3.263  & 2.041 \\\\\n",
       "\t 17     & 1964   &  7.823 & 0.538  & 0.5163 & 3.412  & 1.997 \\\\\n",
       "\t 18     & 1965   &  9.120 & 0.564  & 0.5879 & 3.623  & 2.257 \\\\\n",
       "\t 19     & 1966   & 10.512 & 0.586  & 0.5369 & 4.074  & 2.742 \\\\\n",
       "\t 20     & 1967   & 13.020 & 0.622  & 0.4443 & 4.710  & 3.564 \\\\\n",
       "\t 21     & 1968   & 15.261 & 0.666  & 0.3052 & 5.217  & 4.767 \\\\\n",
       "\t 22     & 1969   & 16.313 & 0.731  & 0.2332 & 5.569  & 6.511 \\\\\n",
       "\t 23     & 1970   & 16.002 & 0.831  & 0.1883 & 5.495  & 7.627 \\\\\n",
       "\t 24     & 1971   & 15.876 & 0.906  & 0.2023 & 5.334  & 8.673 \\\\\n",
       "\t 25     & 1972   & 16.662 & 1.000  & 0.2506 & 5.345  & 8.331 \\\\\n",
       "\t 26     & 1973   & 17.014 & 1.056  & 0.2668 & 5.662  & 8.557 \\\\\n",
       "\t 27     & 1974   & 19.305 & 1.131  & 0.2664 & 5.729  & 9.508 \\\\\n",
       "\t 28     & 1975   & 18.721 & 1.247  & 0.2301 & 5.722  & 9.062 \\\\\n",
       "\t 29     & 1976   & 19.250 & 1.375  & 0.3452 & 5.762  & 8.262 \\\\\n",
       "\t 30     & 1977   & 20.647 & 1.544  & 0.4508 & 5.877  & 7.474 \\\\\n",
       "\t 31     & 1978   & 22.726 & 1.703  & 0.5877 & 6.108  & 7.104 \\\\\n",
       "\t 32     & 1979   & 23.619 & 1.779  & 0.5346 & 6.852  & 6.874 \\\\\n",
       "\\end{tabular}\n"
      ],
      "text/markdown": [
       "\n",
       "row.names | year | y | w | r | l | k | \n",
       "|---|---|---|---|---|---|---|---|---|---|---|---|---|---|---|---|---|---|---|---|---|---|---|---|---|---|---|---|---|---|---|---|\n",
       "| 1      | 1948   |  1.214 | 0.243  | 0.1454 | 1.415  | 0.612  | \n",
       "| 2      | 1949   |  1.354 | 0.260  | 0.2181 | 1.384  | 0.559  | \n",
       "| 3      | 1950   |  1.569 | 0.278  | 0.3157 | 1.388  | 0.573  | \n",
       "| 4      | 1951   |  1.948 | 0.297  | 0.3940 | 1.550  | 0.564  | \n",
       "| 5      | 1952   |  2.265 | 0.310  | 0.3559 | 1.802  | 0.574  | \n",
       "| 6      | 1953   |  2.731 | 0.322  | 0.3593 | 1.926  | 0.711  | \n",
       "| 7      | 1954   |  3.025 | 0.335  | 0.4025 | 1.964  | 0.776  | \n",
       "| 8      | 1955   |  3.562 | 0.350  | 0.3961 | 2.116  | 0.827  | \n",
       "| 9      | 1956   |  3.979 | 0.361  | 0.3822 | 2.435  | 0.800  | \n",
       "| 10     | 1957   |  4.420 | 0.379  | 0.3045 | 2.707  | 0.921  | \n",
       "| 11     | 1958   |  4.563 | 0.391  | 0.3284 | 2.706  | 1.067  | \n",
       "| 12     | 1959   |  5.385 | 0.426  | 0.3856 | 2.846  | 1.083  | \n",
       "| 13     | 1960   |  5.554 | 0.441  | 0.3193 | 3.089  | 1.481  | \n",
       "| 14     | 1961   |  5.465 | 0.460  | 0.3079 | 3.122  | 1.736  | \n",
       "| 15     | 1962   |  5.825 | 0.485  | 0.3783 | 3.184  | 1.926  | \n",
       "| 16     | 1963   |  6.876 | 0.506  | 0.4180 | 3.263  | 2.041  | \n",
       "| 17     | 1964   |  7.823 | 0.538  | 0.5163 | 3.412  | 1.997  | \n",
       "| 18     | 1965   |  9.120 | 0.564  | 0.5879 | 3.623  | 2.257  | \n",
       "| 19     | 1966   | 10.512 | 0.586  | 0.5369 | 4.074  | 2.742  | \n",
       "| 20     | 1967   | 13.020 | 0.622  | 0.4443 | 4.710  | 3.564  | \n",
       "| 21     | 1968   | 15.261 | 0.666  | 0.3052 | 5.217  | 4.767  | \n",
       "| 22     | 1969   | 16.313 | 0.731  | 0.2332 | 5.569  | 6.511  | \n",
       "| 23     | 1970   | 16.002 | 0.831  | 0.1883 | 5.495  | 7.627  | \n",
       "| 24     | 1971   | 15.876 | 0.906  | 0.2023 | 5.334  | 8.673  | \n",
       "| 25     | 1972   | 16.662 | 1.000  | 0.2506 | 5.345  | 8.331  | \n",
       "| 26     | 1973   | 17.014 | 1.056  | 0.2668 | 5.662  | 8.557  | \n",
       "| 27     | 1974   | 19.305 | 1.131  | 0.2664 | 5.729  | 9.508  | \n",
       "| 28     | 1975   | 18.721 | 1.247  | 0.2301 | 5.722  | 9.062  | \n",
       "| 29     | 1976   | 19.250 | 1.375  | 0.3452 | 5.762  | 8.262  | \n",
       "| 30     | 1977   | 20.647 | 1.544  | 0.4508 | 5.877  | 7.474  | \n",
       "| 31     | 1978   | 22.726 | 1.703  | 0.5877 | 6.108  | 7.104  | \n",
       "| 32     | 1979   | 23.619 | 1.779  | 0.5346 | 6.852  | 6.874  | \n",
       "\n",
       "\n"
      ],
      "text/plain": [
       "   row.names year y      w     r      l     k    \n",
       "1  1         1948  1.214 0.243 0.1454 1.415 0.612\n",
       "2  2         1949  1.354 0.260 0.2181 1.384 0.559\n",
       "3  3         1950  1.569 0.278 0.3157 1.388 0.573\n",
       "4  4         1951  1.948 0.297 0.3940 1.550 0.564\n",
       "5  5         1952  2.265 0.310 0.3559 1.802 0.574\n",
       "6  6         1953  2.731 0.322 0.3593 1.926 0.711\n",
       "7  7         1954  3.025 0.335 0.4025 1.964 0.776\n",
       "8  8         1955  3.562 0.350 0.3961 2.116 0.827\n",
       "9  9         1956  3.979 0.361 0.3822 2.435 0.800\n",
       "10 10        1957  4.420 0.379 0.3045 2.707 0.921\n",
       "11 11        1958  4.563 0.391 0.3284 2.706 1.067\n",
       "12 12        1959  5.385 0.426 0.3856 2.846 1.083\n",
       "13 13        1960  5.554 0.441 0.3193 3.089 1.481\n",
       "14 14        1961  5.465 0.460 0.3079 3.122 1.736\n",
       "15 15        1962  5.825 0.485 0.3783 3.184 1.926\n",
       "16 16        1963  6.876 0.506 0.4180 3.263 2.041\n",
       "17 17        1964  7.823 0.538 0.5163 3.412 1.997\n",
       "18 18        1965  9.120 0.564 0.5879 3.623 2.257\n",
       "19 19        1966 10.512 0.586 0.5369 4.074 2.742\n",
       "20 20        1967 13.020 0.622 0.4443 4.710 3.564\n",
       "21 21        1968 15.261 0.666 0.3052 5.217 4.767\n",
       "22 22        1969 16.313 0.731 0.2332 5.569 6.511\n",
       "23 23        1970 16.002 0.831 0.1883 5.495 7.627\n",
       "24 24        1971 15.876 0.906 0.2023 5.334 8.673\n",
       "25 25        1972 16.662 1.000 0.2506 5.345 8.331\n",
       "26 26        1973 17.014 1.056 0.2668 5.662 8.557\n",
       "27 27        1974 19.305 1.131 0.2664 5.729 9.508\n",
       "28 28        1975 18.721 1.247 0.2301 5.722 9.062\n",
       "29 29        1976 19.250 1.375 0.3452 5.762 8.262\n",
       "30 30        1977 20.647 1.544 0.4508 5.877 7.474\n",
       "31 31        1978 22.726 1.703 0.5877 6.108 7.104\n",
       "32 32        1979 23.619 1.779 0.5346 6.852 6.874"
      ]
     },
     "metadata": {},
     "output_type": "display_data"
    }
   ],
   "source": [
    "dbGetQuery(con, \"select * from airline\")#retrieve data by querying the table, creates indexes"
   ]
  },
  {
   "cell_type": "code",
   "execution_count": 12,
   "metadata": {},
   "outputs": [
    {
     "data": {
      "text/html": [
       "<table>\n",
       "<thead><tr><th scope=col>year</th><th scope=col>y</th><th scope=col>w</th><th scope=col>r</th><th scope=col>l</th><th scope=col>k</th></tr></thead>\n",
       "<tbody>\n",
       "\t<tr><td>1948  </td><td> 1.214</td><td>0.243 </td><td>0.1454</td><td>1.415 </td><td>0.612 </td></tr>\n",
       "\t<tr><td>1949  </td><td> 1.354</td><td>0.260 </td><td>0.2181</td><td>1.384 </td><td>0.559 </td></tr>\n",
       "\t<tr><td>1950  </td><td> 1.569</td><td>0.278 </td><td>0.3157</td><td>1.388 </td><td>0.573 </td></tr>\n",
       "\t<tr><td>1951  </td><td> 1.948</td><td>0.297 </td><td>0.3940</td><td>1.550 </td><td>0.564 </td></tr>\n",
       "\t<tr><td>1952  </td><td> 2.265</td><td>0.310 </td><td>0.3559</td><td>1.802 </td><td>0.574 </td></tr>\n",
       "\t<tr><td>1953  </td><td> 2.731</td><td>0.322 </td><td>0.3593</td><td>1.926 </td><td>0.711 </td></tr>\n",
       "\t<tr><td>1954  </td><td> 3.025</td><td>0.335 </td><td>0.4025</td><td>1.964 </td><td>0.776 </td></tr>\n",
       "\t<tr><td>1955  </td><td> 3.562</td><td>0.350 </td><td>0.3961</td><td>2.116 </td><td>0.827 </td></tr>\n",
       "\t<tr><td>1956  </td><td> 3.979</td><td>0.361 </td><td>0.3822</td><td>2.435 </td><td>0.800 </td></tr>\n",
       "\t<tr><td>1957  </td><td> 4.420</td><td>0.379 </td><td>0.3045</td><td>2.707 </td><td>0.921 </td></tr>\n",
       "\t<tr><td>1958  </td><td> 4.563</td><td>0.391 </td><td>0.3284</td><td>2.706 </td><td>1.067 </td></tr>\n",
       "\t<tr><td>1959  </td><td> 5.385</td><td>0.426 </td><td>0.3856</td><td>2.846 </td><td>1.083 </td></tr>\n",
       "\t<tr><td>1960  </td><td> 5.554</td><td>0.441 </td><td>0.3193</td><td>3.089 </td><td>1.481 </td></tr>\n",
       "\t<tr><td>1961  </td><td> 5.465</td><td>0.460 </td><td>0.3079</td><td>3.122 </td><td>1.736 </td></tr>\n",
       "\t<tr><td>1962  </td><td> 5.825</td><td>0.485 </td><td>0.3783</td><td>3.184 </td><td>1.926 </td></tr>\n",
       "\t<tr><td>1963  </td><td> 6.876</td><td>0.506 </td><td>0.4180</td><td>3.263 </td><td>2.041 </td></tr>\n",
       "\t<tr><td>1964  </td><td> 7.823</td><td>0.538 </td><td>0.5163</td><td>3.412 </td><td>1.997 </td></tr>\n",
       "\t<tr><td>1965  </td><td> 9.120</td><td>0.564 </td><td>0.5879</td><td>3.623 </td><td>2.257 </td></tr>\n",
       "\t<tr><td>1966  </td><td>10.512</td><td>0.586 </td><td>0.5369</td><td>4.074 </td><td>2.742 </td></tr>\n",
       "\t<tr><td>1967  </td><td>13.020</td><td>0.622 </td><td>0.4443</td><td>4.710 </td><td>3.564 </td></tr>\n",
       "\t<tr><td>1968  </td><td>15.261</td><td>0.666 </td><td>0.3052</td><td>5.217 </td><td>4.767 </td></tr>\n",
       "\t<tr><td>1969  </td><td>16.313</td><td>0.731 </td><td>0.2332</td><td>5.569 </td><td>6.511 </td></tr>\n",
       "\t<tr><td>1970  </td><td>16.002</td><td>0.831 </td><td>0.1883</td><td>5.495 </td><td>7.627 </td></tr>\n",
       "\t<tr><td>1971  </td><td>15.876</td><td>0.906 </td><td>0.2023</td><td>5.334 </td><td>8.673 </td></tr>\n",
       "\t<tr><td>1972  </td><td>16.662</td><td>1.000 </td><td>0.2506</td><td>5.345 </td><td>8.331 </td></tr>\n",
       "\t<tr><td>1973  </td><td>17.014</td><td>1.056 </td><td>0.2668</td><td>5.662 </td><td>8.557 </td></tr>\n",
       "\t<tr><td>1974  </td><td>19.305</td><td>1.131 </td><td>0.2664</td><td>5.729 </td><td>9.508 </td></tr>\n",
       "\t<tr><td>1975  </td><td>18.721</td><td>1.247 </td><td>0.2301</td><td>5.722 </td><td>9.062 </td></tr>\n",
       "\t<tr><td>1976  </td><td>19.250</td><td>1.375 </td><td>0.3452</td><td>5.762 </td><td>8.262 </td></tr>\n",
       "\t<tr><td>1977  </td><td>20.647</td><td>1.544 </td><td>0.4508</td><td>5.877 </td><td>7.474 </td></tr>\n",
       "\t<tr><td>1978  </td><td>22.726</td><td>1.703 </td><td>0.5877</td><td>6.108 </td><td>7.104 </td></tr>\n",
       "\t<tr><td>1979  </td><td>23.619</td><td>1.779 </td><td>0.5346</td><td>6.852 </td><td>6.874 </td></tr>\n",
       "</tbody>\n",
       "</table>\n"
      ],
      "text/latex": [
       "\\begin{tabular}{r|llllll}\n",
       " year & y & w & r & l & k\\\\\n",
       "\\hline\n",
       "\t 1948   &  1.214 & 0.243  & 0.1454 & 1.415  & 0.612 \\\\\n",
       "\t 1949   &  1.354 & 0.260  & 0.2181 & 1.384  & 0.559 \\\\\n",
       "\t 1950   &  1.569 & 0.278  & 0.3157 & 1.388  & 0.573 \\\\\n",
       "\t 1951   &  1.948 & 0.297  & 0.3940 & 1.550  & 0.564 \\\\\n",
       "\t 1952   &  2.265 & 0.310  & 0.3559 & 1.802  & 0.574 \\\\\n",
       "\t 1953   &  2.731 & 0.322  & 0.3593 & 1.926  & 0.711 \\\\\n",
       "\t 1954   &  3.025 & 0.335  & 0.4025 & 1.964  & 0.776 \\\\\n",
       "\t 1955   &  3.562 & 0.350  & 0.3961 & 2.116  & 0.827 \\\\\n",
       "\t 1956   &  3.979 & 0.361  & 0.3822 & 2.435  & 0.800 \\\\\n",
       "\t 1957   &  4.420 & 0.379  & 0.3045 & 2.707  & 0.921 \\\\\n",
       "\t 1958   &  4.563 & 0.391  & 0.3284 & 2.706  & 1.067 \\\\\n",
       "\t 1959   &  5.385 & 0.426  & 0.3856 & 2.846  & 1.083 \\\\\n",
       "\t 1960   &  5.554 & 0.441  & 0.3193 & 3.089  & 1.481 \\\\\n",
       "\t 1961   &  5.465 & 0.460  & 0.3079 & 3.122  & 1.736 \\\\\n",
       "\t 1962   &  5.825 & 0.485  & 0.3783 & 3.184  & 1.926 \\\\\n",
       "\t 1963   &  6.876 & 0.506  & 0.4180 & 3.263  & 2.041 \\\\\n",
       "\t 1964   &  7.823 & 0.538  & 0.5163 & 3.412  & 1.997 \\\\\n",
       "\t 1965   &  9.120 & 0.564  & 0.5879 & 3.623  & 2.257 \\\\\n",
       "\t 1966   & 10.512 & 0.586  & 0.5369 & 4.074  & 2.742 \\\\\n",
       "\t 1967   & 13.020 & 0.622  & 0.4443 & 4.710  & 3.564 \\\\\n",
       "\t 1968   & 15.261 & 0.666  & 0.3052 & 5.217  & 4.767 \\\\\n",
       "\t 1969   & 16.313 & 0.731  & 0.2332 & 5.569  & 6.511 \\\\\n",
       "\t 1970   & 16.002 & 0.831  & 0.1883 & 5.495  & 7.627 \\\\\n",
       "\t 1971   & 15.876 & 0.906  & 0.2023 & 5.334  & 8.673 \\\\\n",
       "\t 1972   & 16.662 & 1.000  & 0.2506 & 5.345  & 8.331 \\\\\n",
       "\t 1973   & 17.014 & 1.056  & 0.2668 & 5.662  & 8.557 \\\\\n",
       "\t 1974   & 19.305 & 1.131  & 0.2664 & 5.729  & 9.508 \\\\\n",
       "\t 1975   & 18.721 & 1.247  & 0.2301 & 5.722  & 9.062 \\\\\n",
       "\t 1976   & 19.250 & 1.375  & 0.3452 & 5.762  & 8.262 \\\\\n",
       "\t 1977   & 20.647 & 1.544  & 0.4508 & 5.877  & 7.474 \\\\\n",
       "\t 1978   & 22.726 & 1.703  & 0.5877 & 6.108  & 7.104 \\\\\n",
       "\t 1979   & 23.619 & 1.779  & 0.5346 & 6.852  & 6.874 \\\\\n",
       "\\end{tabular}\n"
      ],
      "text/markdown": [
       "\n",
       "year | y | w | r | l | k | \n",
       "|---|---|---|---|---|---|---|---|---|---|---|---|---|---|---|---|---|---|---|---|---|---|---|---|---|---|---|---|---|---|---|---|\n",
       "| 1948   |  1.214 | 0.243  | 0.1454 | 1.415  | 0.612  | \n",
       "| 1949   |  1.354 | 0.260  | 0.2181 | 1.384  | 0.559  | \n",
       "| 1950   |  1.569 | 0.278  | 0.3157 | 1.388  | 0.573  | \n",
       "| 1951   |  1.948 | 0.297  | 0.3940 | 1.550  | 0.564  | \n",
       "| 1952   |  2.265 | 0.310  | 0.3559 | 1.802  | 0.574  | \n",
       "| 1953   |  2.731 | 0.322  | 0.3593 | 1.926  | 0.711  | \n",
       "| 1954   |  3.025 | 0.335  | 0.4025 | 1.964  | 0.776  | \n",
       "| 1955   |  3.562 | 0.350  | 0.3961 | 2.116  | 0.827  | \n",
       "| 1956   |  3.979 | 0.361  | 0.3822 | 2.435  | 0.800  | \n",
       "| 1957   |  4.420 | 0.379  | 0.3045 | 2.707  | 0.921  | \n",
       "| 1958   |  4.563 | 0.391  | 0.3284 | 2.706  | 1.067  | \n",
       "| 1959   |  5.385 | 0.426  | 0.3856 | 2.846  | 1.083  | \n",
       "| 1960   |  5.554 | 0.441  | 0.3193 | 3.089  | 1.481  | \n",
       "| 1961   |  5.465 | 0.460  | 0.3079 | 3.122  | 1.736  | \n",
       "| 1962   |  5.825 | 0.485  | 0.3783 | 3.184  | 1.926  | \n",
       "| 1963   |  6.876 | 0.506  | 0.4180 | 3.263  | 2.041  | \n",
       "| 1964   |  7.823 | 0.538  | 0.5163 | 3.412  | 1.997  | \n",
       "| 1965   |  9.120 | 0.564  | 0.5879 | 3.623  | 2.257  | \n",
       "| 1966   | 10.512 | 0.586  | 0.5369 | 4.074  | 2.742  | \n",
       "| 1967   | 13.020 | 0.622  | 0.4443 | 4.710  | 3.564  | \n",
       "| 1968   | 15.261 | 0.666  | 0.3052 | 5.217  | 4.767  | \n",
       "| 1969   | 16.313 | 0.731  | 0.2332 | 5.569  | 6.511  | \n",
       "| 1970   | 16.002 | 0.831  | 0.1883 | 5.495  | 7.627  | \n",
       "| 1971   | 15.876 | 0.906  | 0.2023 | 5.334  | 8.673  | \n",
       "| 1972   | 16.662 | 1.000  | 0.2506 | 5.345  | 8.331  | \n",
       "| 1973   | 17.014 | 1.056  | 0.2668 | 5.662  | 8.557  | \n",
       "| 1974   | 19.305 | 1.131  | 0.2664 | 5.729  | 9.508  | \n",
       "| 1975   | 18.721 | 1.247  | 0.2301 | 5.722  | 9.062  | \n",
       "| 1976   | 19.250 | 1.375  | 0.3452 | 5.762  | 8.262  | \n",
       "| 1977   | 20.647 | 1.544  | 0.4508 | 5.877  | 7.474  | \n",
       "| 1978   | 22.726 | 1.703  | 0.5877 | 6.108  | 7.104  | \n",
       "| 1979   | 23.619 | 1.779  | 0.5346 | 6.852  | 6.874  | \n",
       "\n",
       "\n"
      ],
      "text/plain": [
       "   year y      w     r      l     k    \n",
       "1  1948  1.214 0.243 0.1454 1.415 0.612\n",
       "2  1949  1.354 0.260 0.2181 1.384 0.559\n",
       "3  1950  1.569 0.278 0.3157 1.388 0.573\n",
       "4  1951  1.948 0.297 0.3940 1.550 0.564\n",
       "5  1952  2.265 0.310 0.3559 1.802 0.574\n",
       "6  1953  2.731 0.322 0.3593 1.926 0.711\n",
       "7  1954  3.025 0.335 0.4025 1.964 0.776\n",
       "8  1955  3.562 0.350 0.3961 2.116 0.827\n",
       "9  1956  3.979 0.361 0.3822 2.435 0.800\n",
       "10 1957  4.420 0.379 0.3045 2.707 0.921\n",
       "11 1958  4.563 0.391 0.3284 2.706 1.067\n",
       "12 1959  5.385 0.426 0.3856 2.846 1.083\n",
       "13 1960  5.554 0.441 0.3193 3.089 1.481\n",
       "14 1961  5.465 0.460 0.3079 3.122 1.736\n",
       "15 1962  5.825 0.485 0.3783 3.184 1.926\n",
       "16 1963  6.876 0.506 0.4180 3.263 2.041\n",
       "17 1964  7.823 0.538 0.5163 3.412 1.997\n",
       "18 1965  9.120 0.564 0.5879 3.623 2.257\n",
       "19 1966 10.512 0.586 0.5369 4.074 2.742\n",
       "20 1967 13.020 0.622 0.4443 4.710 3.564\n",
       "21 1968 15.261 0.666 0.3052 5.217 4.767\n",
       "22 1969 16.313 0.731 0.2332 5.569 6.511\n",
       "23 1970 16.002 0.831 0.1883 5.495 7.627\n",
       "24 1971 15.876 0.906 0.2023 5.334 8.673\n",
       "25 1972 16.662 1.000 0.2506 5.345 8.331\n",
       "26 1973 17.014 1.056 0.2668 5.662 8.557\n",
       "27 1974 19.305 1.131 0.2664 5.729 9.508\n",
       "28 1975 18.721 1.247 0.2301 5.722 9.062\n",
       "29 1976 19.250 1.375 0.3452 5.762 8.262\n",
       "30 1977 20.647 1.544 0.4508 5.877 7.474\n",
       "31 1978 22.726 1.703 0.5877 6.108 7.104\n",
       "32 1979 23.619 1.779 0.5346 6.852 6.874"
      ]
     },
     "metadata": {},
     "output_type": "display_data"
    }
   ],
   "source": [
    "dbReadTable(con, \"airline\")#read table"
   ]
  },
  {
   "cell_type": "code",
   "execution_count": 13,
   "metadata": {},
   "outputs": [
    {
     "data": {
      "text/html": [
       "<table>\n",
       "<thead><tr><th scope=col>row.names</th><th scope=col>year</th><th scope=col>y</th><th scope=col>w</th><th scope=col>r</th><th scope=col>l</th><th scope=col>k</th></tr></thead>\n",
       "<tbody>\n",
       "\t<tr><td>3     </td><td>1950  </td><td>1.569 </td><td>0.278 </td><td>0.3157</td><td>1.388 </td><td>0.573 </td></tr>\n",
       "</tbody>\n",
       "</table>\n"
      ],
      "text/latex": [
       "\\begin{tabular}{r|lllllll}\n",
       " row.names & year & y & w & r & l & k\\\\\n",
       "\\hline\n",
       "\t 3      & 1950   & 1.569  & 0.278  & 0.3157 & 1.388  & 0.573 \\\\\n",
       "\\end{tabular}\n"
      ],
      "text/markdown": [
       "\n",
       "row.names | year | y | w | r | l | k | \n",
       "|---|\n",
       "| 3      | 1950   | 1.569  | 0.278  | 0.3157 | 1.388  | 0.573  | \n",
       "\n",
       "\n"
      ],
      "text/plain": [
       "  row.names year y     w     r      l     k    \n",
       "1 3         1950 1.569 0.278 0.3157 1.388 0.573"
      ]
     },
     "metadata": {},
     "output_type": "display_data"
    }
   ],
   "source": [
    "dbGetQuery(con, \"select * from airline where year = 1950\")#query for to retrieve specific info"
   ]
  },
  {
   "cell_type": "code",
   "execution_count": 14,
   "metadata": {},
   "outputs": [
    {
     "data": {
      "text/html": [
       "<ol class=list-inline>\n",
       "\t<li>'pga_jobclass'</li>\n",
       "\t<li>'pga_job'</li>\n",
       "\t<li>'pga_jobagent'</li>\n",
       "\t<li>'pga_jobstep'</li>\n",
       "\t<li>'pga_schedule'</li>\n",
       "\t<li>'pga_exception'</li>\n",
       "\t<li>'pga_joblog'</li>\n",
       "\t<li>'pga_jobsteplog'</li>\n",
       "\t<li>'airline'</li>\n",
       "</ol>\n"
      ],
      "text/latex": [
       "\\begin{enumerate*}\n",
       "\\item 'pga\\_jobclass'\n",
       "\\item 'pga\\_job'\n",
       "\\item 'pga\\_jobagent'\n",
       "\\item 'pga\\_jobstep'\n",
       "\\item 'pga\\_schedule'\n",
       "\\item 'pga\\_exception'\n",
       "\\item 'pga\\_joblog'\n",
       "\\item 'pga\\_jobsteplog'\n",
       "\\item 'airline'\n",
       "\\end{enumerate*}\n"
      ],
      "text/markdown": [
       "1. 'pga_jobclass'\n",
       "2. 'pga_job'\n",
       "3. 'pga_jobagent'\n",
       "4. 'pga_jobstep'\n",
       "5. 'pga_schedule'\n",
       "6. 'pga_exception'\n",
       "7. 'pga_joblog'\n",
       "8. 'pga_jobsteplog'\n",
       "9. 'airline'\n",
       "\n",
       "\n"
      ],
      "text/plain": [
       "[1] \"pga_jobclass\"   \"pga_job\"        \"pga_jobagent\"   \"pga_jobstep\"   \n",
       "[5] \"pga_schedule\"   \"pga_exception\"  \"pga_joblog\"     \"pga_jobsteplog\"\n",
       "[9] \"airline\"       "
      ]
     },
     "metadata": {},
     "output_type": "display_data"
    }
   ],
   "source": [
    "dbListTables(con)#get list of all the tables in database"
   ]
  },
  {
   "cell_type": "code",
   "execution_count": 15,
   "metadata": {},
   "outputs": [],
   "source": [
    "query = \"select avg(y) avg_y \n",
    "         from airline\"#average column y"
   ]
  },
  {
   "cell_type": "code",
   "execution_count": 16,
   "metadata": {},
   "outputs": [
    {
     "data": {
      "text/plain": [
       "# Source:   SQL [?? x 1]\n",
       "# Database: postgres 11.0.0 [postgres@localhost:5432/postgres]\n",
       "  avg_y\n",
       "  <dbl>\n",
       "1  10.1"
      ]
     },
     "metadata": {},
     "output_type": "display_data"
    }
   ],
   "source": [
    "dsub = tbl(con, sql(query))#tbl() command lets you access tables in the database remotely, and sql() lets you send queries\n",
    "dsub"
   ]
  },
  {
   "cell_type": "code",
   "execution_count": 17,
   "metadata": {},
   "outputs": [],
   "source": [
    "query = \"select y\n",
    "         from airline\"#select all column y data"
   ]
  },
  {
   "cell_type": "code",
   "execution_count": 18,
   "metadata": {},
   "outputs": [],
   "source": [
    "dessum = tbl(con, sql(query))"
   ]
  },
  {
   "cell_type": "code",
   "execution_count": 19,
   "metadata": {},
   "outputs": [
    {
     "data": {
      "text/plain": [
       "# Source:   SQL [?? x 1]\n",
       "# Database: postgres 11.0.0 [postgres@localhost:5432/postgres]\n",
       "       y\n",
       "   <dbl>\n",
       " 1  1.21\n",
       " 2  1.35\n",
       " 3  1.57\n",
       " 4  1.95\n",
       " 5  2.27\n",
       " 6  2.73\n",
       " 7  3.03\n",
       " 8  3.56\n",
       " 9  3.98\n",
       "10  4.42\n",
       "# ... with more rows"
      ]
     },
     "metadata": {},
     "output_type": "display_data"
    }
   ],
   "source": [
    "dessum"
   ]
  },
  {
   "cell_type": "code",
   "execution_count": 20,
   "metadata": {},
   "outputs": [
    {
     "data": {
      "text/plain": [
       "       y         \n",
       " Min.   : 1.214  \n",
       " 1st Qu.: 3.875  \n",
       " Median : 7.349  \n",
       " Mean   :10.050  \n",
       " 3rd Qu.:16.400  \n",
       " Max.   :23.619  "
      ]
     },
     "metadata": {},
     "output_type": "display_data"
    }
   ],
   "source": [
    "dessum = as.data.frame(dessum)#coerce dessum into a local dataframe\n",
    "summary(dessum)"
   ]
  },
  {
   "cell_type": "code",
   "execution_count": null,
   "metadata": {},
   "outputs": [],
   "source": []
  }
 ],
 "metadata": {
  "kernelspec": {
   "display_name": "R",
   "language": "R",
   "name": "ir"
  },
  "language_info": {
   "codemirror_mode": "r",
   "file_extension": ".r",
   "mimetype": "text/x-r-source",
   "name": "R",
   "pygments_lexer": "r",
   "version": "3.5.1"
  }
 },
 "nbformat": 4,
 "nbformat_minor": 2
}
